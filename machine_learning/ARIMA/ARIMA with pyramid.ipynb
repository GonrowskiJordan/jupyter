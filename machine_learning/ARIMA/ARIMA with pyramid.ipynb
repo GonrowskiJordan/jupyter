{
 "cells": [
  {
   "cell_type": "markdown",
   "metadata": {},
   "source": [
    "# ARIMA with pyramid\n",
    "This notebook shows how to use the ARIMA-algorithm for forecasting univariate time series.\n",
    "\n",
    "In case you do not know ARIMA, have a quick look on the [wikipedia article](https://en.wikipedia.org/wiki/Autoregressive_integrated_moving_average).\n",
    "To make things simple the [Pyramid Library](https://github.com/alkaline-ml/pmdarima) is used."
   ]
  },
  {
   "cell_type": "code",
   "execution_count": null,
   "metadata": {},
   "outputs": [],
   "source": [
    "# First install the required packages\n",
    "!pip install matplotlib numpy pandas pmdarima"
   ]
  },
  {
   "cell_type": "code",
   "execution_count": 7,
   "metadata": {},
   "outputs": [],
   "source": [
    "import pandas as pd\n",
    "import pmdarima as pm\n",
    "from pmdarima.model_selection import train_test_split\n",
    "import numpy as np\n",
    "import matplotlib.pyplot as plt\n",
    "\n",
    "import warnings\n",
    "warnings.filterwarnings('ignore')"
   ]
  },
  {
   "cell_type": "markdown",
   "metadata": {},
   "source": [
    "## Load Data\n",
    "\n",
    "In this example we will use the average temperature of the earth surface and make a prediction how this value will evolve.\n",
    "The source of the data can be found at Kaggle: https://www.kaggle.com/berkeleyearth/climate-change-earth-surface-temperature-data"
   ]
  },
  {
   "cell_type": "code",
   "execution_count": 63,
   "metadata": {},
   "outputs": [],
   "source": [
    "# Load data\n",
    "df = pd.read_csv(\"data/GlobalTemperatures.csv\", parse_dates=[0])\n",
    "df = df[[\"dt\", \"LandAverageTemperature\"]]\n",
    "df[\"LandAverageTemperature\"] = df[\"LandAverageTemperature\"].interpolate()"
   ]
  },
  {
   "cell_type": "code",
   "execution_count": 64,
   "metadata": {},
   "outputs": [
    {
     "data": {
      "text/plain": [
       "<bound method NDFrame.tail of              dt  LandAverageTemperature\n",
       "0    1750-01-01                   3.034\n",
       "1    1750-02-01                   3.083\n",
       "2    1750-03-01                   5.626\n",
       "3    1750-04-01                   8.490\n",
       "4    1750-05-01                  11.573\n",
       "...         ...                     ...\n",
       "3187 2015-08-01                  14.755\n",
       "3188 2015-09-01                  12.999\n",
       "3189 2015-10-01                  10.801\n",
       "3190 2015-11-01                   7.433\n",
       "3191 2015-12-01                   5.518\n",
       "\n",
       "[3192 rows x 2 columns]>"
      ]
     },
     "execution_count": 64,
     "metadata": {},
     "output_type": "execute_result"
    }
   ],
   "source": [
    "df.tail"
   ]
  },
  {
   "cell_type": "code",
   "execution_count": 59,
   "metadata": {},
   "outputs": [],
   "source": [
    "# You can either slpit by percentage or pick a start/end data\n",
    "\n",
    "# split data by percentage\n",
    "split_percentage = 80\n",
    "y = df[\"LandAverageTemperature\"]\n",
    "train_size = int(y.shape[0]*(split_percantage/100))\n",
    "train, test = train_test_split(y, train_size=train_size)\n",
    "\n",
    "# split data by year\n",
    "train_start_date = '1900-01-01'\n",
    "train_end_year = '1999-12-01'\n",
    "test_start_year = '2000-01-01'\n",
    "test_end_year = '2015-12-01'"
   ]
  },
  {
   "cell_type": "code",
   "execution_count": 60,
   "metadata": {},
   "outputs": [],
   "source": [
    "%%time # Measure the execution time of the model fitting\n",
    "\n",
    "# Fit model\n",
    "model = pm.auto_arima(train, seasonal=True, m=12)\n",
    "\n",
    "# Create forecasts\n",
    "forecasts = model.predict(test.shape[0])  # predict N steps into the future"
   ]
  },
  {
   "cell_type": "code",
   "execution_count": 61,
   "metadata": {},
   "outputs": [
    {
     "data": {
      "image/png": "[encoded data removed]",
      "text/plain": [
       "<Figure size 432x288 with 1 Axes>"
      ]
     },
     "metadata": {
      "needs_background": "light"
     },
     "output_type": "display_data"
    }
   ],
   "source": [
    "# Visualize the forecasts (blue=train, green=forecasts)\n",
    "x = np.arange(y.shape[0])\n",
    "plt.plot(x[:train_size], train, c='blue')\n",
    "plt.plot(x[train_size:], forecasts, c='green')\n",
    "plt.show()"
   ]
  },
  {
   "cell_type": "code",
   "execution_count": null,
   "metadata": {},
   "outputs": [],
   "source": [
    "# Compare forecasts and real values\n",
    "\n",
    "# ...\n",
    "# ...\n",
    "# ..."
   ]
  }
 ],
 "metadata": {
  "kernelspec": {
   "display_name": "Python 3",
   "language": "python",
   "name": "python3"
  },
  "language_info": {
   "codemirror_mode": {
    "name": "ipython",
    "version": 3
   },
   "file_extension": ".py",
   "mimetype": "text/x-python",
   "name": "python",
   "nbconvert_exporter": "python",
   "pygments_lexer": "ipython3",
   "version": "3.7.6"
  }
 },
 "nbformat": 4,
 "nbformat_minor": 4
}
